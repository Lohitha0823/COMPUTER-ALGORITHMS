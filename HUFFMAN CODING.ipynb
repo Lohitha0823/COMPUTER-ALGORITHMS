{
  "nbformat": 4,
  "nbformat_minor": 0,
  "metadata": {
    "colab": {
      "provenance": []
    },
    "kernelspec": {
      "name": "python3",
      "display_name": "Python 3"
    },
    "language_info": {
      "name": "python"
    }
  },
  "cells": [
    {
      "cell_type": "code",
      "source": [
        "import heapq\n",
        "\n",
        "def get_user_input():\n",
        "    num_entries = int(input(\"Enter the number of character-frequency pairs: \"))\n",
        "    char_freq = []\n",
        "    for _ in range(num_entries):\n",
        "        char = input(\"Enter a character: \").lower()\n",
        "        freq = int(input(f\"Enter the frequency for {char}: \"))\n",
        "        char_freq.append((char, freq))\n",
        "    return char_freq\n",
        "\n",
        "class HuffmanNode:\n",
        "    def __init__(self, char, freq):\n",
        "        self.char = char\n",
        "        self.freq = freq\n",
        "        self.left = None\n",
        "        self.right = None\n",
        "\n",
        "    def __lt__(self, other):\n",
        "\n",
        "        if self.freq == other.freq:\n",
        "\n",
        "            if self.char is None:\n",
        "                return False\n",
        "            if other.char is None:\n",
        "                return True\n",
        "            return self.char < other.char\n",
        "        return self.freq < other.freq\n",
        "\n",
        "def build_huffman_tree(char_freq):\n",
        "    heap = [HuffmanNode(char, freq) for char, freq in char_freq]\n",
        "    heapq.heapify(heap)\n",
        "\n",
        "    while len(heap) > 1:\n",
        "        left = heapq.heappop(heap)\n",
        "        right = heapq.heappop(heap)\n",
        "\n",
        "        merged = HuffmanNode(None, left.freq + right.freq)\n",
        "        merged.left = left\n",
        "        merged.right = right\n",
        "\n",
        "        heapq.heappush(heap, merged)\n",
        "\n",
        "    return heap[0]\n",
        "\n",
        "def generate_huffman_codes(node, prefix=\"\", codebook={}):\n",
        "    if node is None:\n",
        "        return\n",
        "\n",
        "    if node.char is not None:\n",
        "        codebook[node.char] = prefix\n",
        "    else:\n",
        "\n",
        "        generate_huffman_codes(node.left, prefix + \"0\", codebook)\n",
        "        generate_huffman_codes(node.right, prefix + \"1\", codebook)\n",
        "\n",
        "    return codebook\n",
        "\n",
        "\n",
        "def display_huffman_codes(codes):\n",
        "    if not codes:\n",
        "        print(\"No Huffman codes to display. The input data might be incorrect.\")\n",
        "        return\n",
        "\n",
        "    print(\"Huffman Codes:\")\n",
        "    for char, code in codes.items():\n",
        "        print(f\"{char}: {code}\")\n",
        "\n",
        "def main():\n",
        "    char_freq_pairs = get_user_input()\n",
        "\n",
        "    root = build_huffman_tree(char_freq_pairs)\n",
        "\n",
        "    huffman_codes = generate_huffman_codes(root)\n",
        "\n",
        "    display_huffman_codes(huffman_codes)\n",
        "if __name__ == \"__main__\":\n",
        "    main()\n"
      ],
      "metadata": {
        "colab": {
          "base_uri": "https://localhost:8080/"
        },
        "id": "6cQAyJPaQq6q",
        "outputId": "d84c4e4a-1673-4fc2-f480-d3fe1551ea71"
      },
      "execution_count": 50,
      "outputs": [
        {
          "output_type": "stream",
          "name": "stdout",
          "text": [
            "Enter the number of character-frequency pairs: 1\n",
            "Enter a character: a\n",
            "Enter the frequency for a: 1\n",
            "Huffman Codes:\n",
            "a: \n"
          ]
        }
      ]
    }
  ]
}